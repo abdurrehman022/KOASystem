{
 "cells": [
  {
   "cell_type": "code",
   "execution_count": null,
   "metadata": {
    "id": "en5VNAWxv-p6"
   },
   "outputs": [],
   "source": [
    "# MUST HAVE PYTHON 3.9!\n",
    "\n",
    "!pip install tensorflow==2.8.0\n",
    "!pip install keras==2.6.0"
   ]
  },
  {
   "cell_type": "code",
   "execution_count": null,
   "metadata": {
    "id": "Fa0lbJI9FGaI"
   },
   "outputs": [],
   "source": [
    "# Step 1: Imports and Setup\n",
    "import cv2\n",
    "import numpy as np\n",
    "import matplotlib.pyplot as plt\n",
    "from tensorflow.keras.applications.efficientnet import preprocess_input\n",
    "from tensorflow.keras.models import load_model\n",
    "from IPython.display import Image, display"
   ]
  },
  {
   "cell_type": "code",
   "execution_count": null,
   "metadata": {
    "id": "WXPac7rgGQfk"
   },
   "outputs": [],
   "source": [
    "# Step 2: Load and Preprocess Image\n",
    "def load_and_preprocess_image(image_path, target_size=(224, 224)):\n",
    "    # Load image using OpenCV\n",
    "    img = cv2.imread(image_path)\n",
    "\n",
    "    # Resize image to target size\n",
    "    img = cv2.resize(img, target_size)\n",
    "\n",
    "    # Convert BGR image to RGB\n",
    "    img = cv2.cvtColor(img, cv2.COLOR_BGR2RGB)\n",
    "\n",
    "    # Convert image to array and preprocess for EfficientNet\n",
    "    img_array = img.astype(np.float32)\n",
    "    img_array = preprocess_input(img_array)\n",
    "\n",
    "    return img_array"
   ]
  },
  {
   "cell_type": "code",
   "execution_count": null,
   "metadata": {
    "id": "48RWPXvvGWdW"
   },
   "outputs": [],
   "source": [
    "# Step 3: Load Pre-trained CNN Model\n",
    "model_path = 'models/kneeosteoarthritis_957.28.h5'  # Model Path\n",
    "model = load_model(model_path)"
   ]
  },
  {
   "cell_type": "code",
   "execution_count": null,
   "metadata": {
    "id": "1xP2Zf1MGYYF"
   },
   "outputs": [],
   "source": [
    "# Step 4: Generate Predictions\n",
    "def predict_single_image(image_path):\n",
    "    img = load_and_preprocess_image(image_path)\n",
    "    img = np.expand_dims(img, axis=0)\n",
    "    pred = model.predict(img)\n",
    "    pred_index = np.argmax(pred)\n",
    "    confidence = np.max(pred)  # Get the confidence of the predicted class\n",
    "    return pred_index, confidence"
   ]
  },
  {
   "cell_type": "code",
   "execution_count": null,
   "metadata": {
    "id": "wmz04kfJNU3R"
   },
   "outputs": [],
   "source": [
    "# Step 5: Generate Output Image\n",
    "\n",
    "def display_image_with_prediction(image_path):\n",
    "  import matplotlib.pyplot as plt\n",
    "  predicted_class, confidence = predict_single_image(image_path)\n",
    "  img = cv2.imread(image_path)\n",
    "  img = cv2.cvtColor(img, cv2.COLOR_BGR2RGB)\n",
    "\n",
    "  plt.imshow(img)\n",
    "  plt.title(f\"Prediction: {classes[predicted_class]} ({confidence * 100:.2f}%)\")\n",
    "  plt.axis('off')\n",
    "  plt.show()\n",
    "\n",
    "  # Additional text output\n",
    "  print(f\"Detailed Analysis: The image is predicted to be in the '{classes[predicted_class]}' category with {confidence * 100:.2f}% confidence.\")\n",
    "  if predicted_class == 0:\n",
    "    print(\"In healthy knees, the cartilage is intact, and there are no signs of wear or joint space narrowing. Individuals in this category typically experience no pain and maintain full mobility.\")\n",
    "  elif predicted_class == 1:\n",
    "    print(\"Moderate OA is characterized by noticeable cartilage damage and joint space narrowing, often leading to pain, stiffness, and reduced function. This stage may require interventions such as physical therapy, weight management, or anti-inflammatory medications to alleviate symptoms and slow progression.\")\n",
    "  elif predicted_class == 2:\n",
    "    print(\"Severe OA presents with significant cartilage loss, bone spurs, and possible joint deformity. Pain is often chronic and debilitating, severely limiting mobility. Future steps may include advanced treatments like viscosupplementation, cortisone injections, or surgical options such as total knee replacement to restore function and improve quality of life. Early detection and consistent management are key to mitigating progression at all stages.\")\n"
   ]
  },
  {
   "cell_type": "code",
   "execution_count": null,
   "metadata": {
    "id": "ufGqOzqZMoHP"
   },
   "outputs": [],
   "source": [
    "# Step 6: Define the classes\n",
    "classes = ['Healthy', 'Moderate', 'Severe']"
   ]
  },
  {
   "cell_type": "code",
   "execution_count": null,
   "metadata": {
    "id": "YuTe8haGGejo"
   },
   "outputs": [],
   "source": [
    "# Step 7: Show Results\n",
    "\n",
    "single_image_path = 'IMAGE PATH HERE'\n",
    "display_image_with_prediction(single_image_path)\n"
   ]
  }
 ],
 "metadata": {
  "accelerator": "GPU",
  "colab": {
   "gpuType": "T4",
   "provenance": []
  },
  "kernelspec": {
   "display_name": "Python 3",
   "name": "python3"
  },
  "language_info": {
   "name": "python"
  }
 },
 "nbformat": 4,
 "nbformat_minor": 0
}
